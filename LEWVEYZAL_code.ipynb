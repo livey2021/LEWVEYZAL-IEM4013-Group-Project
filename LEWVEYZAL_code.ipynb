{
 "cells": [
  {
   "cell_type": "code",
   "execution_count": 1,
   "id": "centered-soviet",
   "metadata": {},
   "outputs": [],
   "source": [
    "from gerrychain import Graph"
   ]
  },
  {
   "cell_type": "code",
   "execution_count": 2,
   "id": "compact-authority",
   "metadata": {},
   "outputs": [],
   "source": [
    "# Read Alabama county graph from the json file \"COUNTY_01.json\"\n",
    "\n",
    "filename = 'COUNTY_01.json'\n",
    "\n",
    "# GerryChain has a built-in function for reading graphs of this type:\n",
    "G = Graph.from_json( filename )"
   ]
  },
  {
   "cell_type": "code",
   "execution_count": 3,
   "id": "corporate-forestry",
   "metadata": {},
   "outputs": [
    {
     "name": "stdout",
     "output_type": "stream",
     "text": [
      "Node 0 is Barbour County, which has population 27457 and is centered at ( -85.39319697174619 , 31.869603217898423 )\n",
      "Node 1 is Clay County, which has population 13932 and is centered at ( -85.86054705944194 , 33.269085886198276 )\n",
      "Node 2 is Marengo County, which has population 21027 and is centered at ( -87.78951928523522 , 32.24761342168653 )\n",
      "Node 3 is Houston County, which has population 101547 and is centered at ( -85.30251975426631 , 31.15318422009409 )\n",
      "Node 4 is Cherokee County, which has population 25989 and is centered at ( -85.60379382552829 , 34.175955543616034 )\n",
      "Node 5 is Baldwin County, which has population 182265 and is centered at ( -87.74984469453685 , 30.6609738924624 )\n",
      "Node 6 is Conecuh County, which has population 13228 and is centered at ( -86.99368134370104 , 31.42926727158543 )\n",
      "Node 7 is Cleburne County, which has population 14972 and is centered at ( -85.51876791986888 , 33.67455784656897 )\n",
      "Node 8 is Jefferson County, which has population 658466 and is centered at ( -86.8964902800165 , 33.55431475658097 )\n",
      "Node 9 is Henry County, which has population 17302 and is centered at ( -85.24140630012681 , 31.51469440693819 )\n",
      "Node 10 is Crenshaw County, which has population 13906 and is centered at ( -86.31354765901722 , 31.731486183501875 )\n",
      "Node 11 is Madison County, which has population 334811 and is centered at ( -86.55020653641006 , 34.76308970093465 )\n",
      "Node 12 is Limestone County, which has population 82782 and is centered at ( -86.98136950223683 , 34.81007650885704 )\n",
      "Node 13 is Dallas County, which has population 43820 and is centered at ( -87.10647877649095 , 32.325974538937146 )\n",
      "Node 14 is Covington County, which has population 37765 and is centered at ( -86.45124788997703 , 31.248492845464902 )\n",
      "Node 15 is Shelby County, which has population 195085 and is centered at ( -86.66064863041424 , 33.2642778204166 )\n",
      "Node 16 is Bibb County, which has population 22915 and is centered at ( -87.12643908302329 , 32.998644313019 )\n",
      "Node 17 is Butler County, which has population 20947 and is centered at ( -86.68028921562546 , 31.752433942560142 )\n",
      "Node 18 is Macon County, which has population 21452 and is centered at ( -85.69266850175498 , 32.38597359119281 )\n",
      "Node 19 is Autauga County, which has population 54571 and is centered at ( -86.64275724925504 , 32.53492069021946 )\n",
      "Node 20 is Franklin County, which has population 31704 and is centered at ( -87.84381198716348 , 34.441670632318164 )\n",
      "Node 21 is Marshall County, which has population 93019 and is centered at ( -86.30663696580778 , 34.36696193383658 )\n",
      "Node 22 is Talladega County, which has population 82291 and is centered at ( -86.16590691520001 , 33.38005742632039 )\n",
      "Node 23 is Walker County, which has population 67023 and is centered at ( -87.29735743252813 , 33.803334781108035 )\n",
      "Node 24 is Lauderdale County, which has population 92709 and is centered at ( -87.65401946382268 , 34.90114017896794 )\n",
      "Node 25 is Morgan County, which has population 119490 and is centered at ( -86.85292781364645 , 34.45347499534302 )\n",
      "Node 26 is Pickens County, which has population 19746 and is centered at ( -88.08869260980207 , 33.28087688365432 )\n",
      "Node 27 is Etowah County, which has population 104430 and is centered at ( -86.03476220499286 , 34.045254128332594 )\n",
      "Node 28 is Tuscaloosa County, which has population 194656 and is centered at ( -87.52502994601569 , 33.289549847357435 )\n",
      "Node 29 is Dale County, which has population 50251 and is centered at ( -85.61103196150493 , 31.431819470587527 )\n",
      "Node 30 is Tallapoosa County, which has population 41616 and is centered at ( -85.79750222941729 , 32.8624049444577 )\n",
      "Node 31 is Geneva County, which has population 26790 and is centered at ( -85.8389848908043 , 31.095016702449865 )\n",
      "Node 32 is Mobile County, which has population 412992 and is centered at ( -88.1975295763405 , 30.685146910580293 )\n",
      "Node 33 is Wilcox County, which has population 11670 and is centered at ( -87.30819908932153 , 31.98924196018949 )\n",
      "Node 34 is Sumter County, which has population 13763 and is centered at ( -88.19879134739342 , 32.591014077360576 )\n",
      "Node 35 is Lawrence County, which has population 34339 and is centered at ( -87.31104472929573 , 34.521650917020324 )\n",
      "Node 36 is Calhoun County, which has population 118572 and is centered at ( -85.82603486914782 , 33.77142782210847 )\n",
      "Node 37 is Jackson County, which has population 53227 and is centered at ( -85.99930068175878 , 34.77941470747724 )\n",
      "Node 38 is Marion County, which has population 30776 and is centered at ( -87.88713843478739 , 34.13654972020097 )\n",
      "Node 39 is DeKalb County, which has population 71109 and is centered at ( -85.80414144992365 , 34.45977281989643 )\n",
      "Node 40 is Pike County, which has population 32899 and is centered at ( -85.94092074042894 , 31.802715045380932 )\n",
      "Node 41 is Perry County, which has population 10591 and is centered at ( -87.2944008413756 , 32.63846568673937 )\n",
      "Node 42 is Colbert County, which has population 54428 and is centered at ( -87.80529676672091 , 34.70025404740263 )\n",
      "Node 43 is Elmore County, which has population 79303 and is centered at ( -86.14914633976642 , 32.59664788700988 )\n",
      "Node 44 is Washington County, which has population 17581 and is centered at ( -88.20787681246034 , 31.407603796087137 )\n",
      "Node 45 is Chambers County, which has population 34215 and is centered at ( -85.39204294373201 , 32.9143722172032 )\n",
      "Node 46 is Clarke County, which has population 25833 and is centered at ( -87.83080985050333 , 31.676659580123818 )\n",
      "Node 47 is St. Clair County, which has population 83593 and is centered at ( -86.31468774720817 , 33.71570290572818 )\n",
      "Node 48 is Chilton County, which has population 43643 and is centered at ( -86.71881373083016 , 32.84785313410404 )\n",
      "Node 49 is Bullock County, which has population 10914 and is centered at ( -85.71569720164433 , 32.10055420532796 )\n",
      "Node 50 is Greene County, which has population 9045 and is centered at ( -87.9522343420552 , 32.853137408728344 )\n",
      "Node 51 is Blount County, which has population 57322 and is centered at ( -86.56737095999279 , 33.98086739482323 )\n",
      "Node 52 is Coosa County, which has population 11539 and is centered at ( -86.24765921602953 , 32.936226896286094 )\n",
      "Node 53 is Winston County, which has population 24484 and is centered at ( -87.37368352154319 , 34.14922498766865 )\n",
      "Node 54 is Russell County, which has population 52947 and is centered at ( -85.18496259787717 , 32.288380056218536 )\n",
      "Node 55 is Coffee County, which has population 49948 and is centered at ( -85.98820697087443 , 31.40262716953991 )\n",
      "Node 56 is Monroe County, which has population 23068 and is centered at ( -87.36543089655846 , 31.570836608980876 )\n",
      "Node 57 is Lamar County, which has population 14564 and is centered at ( -88.09689885856152 , 33.77920579845164 )\n",
      "Node 58 is Choctaw County, which has population 13859 and is centered at ( -88.26320126621178 , 32.01961076277522 )\n",
      "Node 59 is Cullman County, which has population 80406 and is centered at ( -86.86761939744032 , 34.13194106743531 )\n",
      "Node 60 is Montgomery County, which has population 229363 and is centered at ( -86.20761429347573 , 32.22025793851669 )\n",
      "Node 61 is Escambia County, which has population 38319 and is centered at ( -87.16161983379405 , 31.126122544455463 )\n",
      "Node 62 is Randolph County, which has population 22913 and is centered at ( -85.45907017313048 , 33.29378740802176 )\n",
      "Node 63 is Fayette County, which has population 17241 and is centered at ( -87.73886196261972 , 33.72120614857144 )\n",
      "Node 64 is Lee County, which has population 140247 and is centered at ( -85.3555627143245 , 32.601136470581956 )\n",
      "Node 65 is Lowndes County, which has population 11299 and is centered at ( -86.6501077038513 , 32.15475001138599 )\n",
      "Node 66 is Hale County, which has population 15760 and is centered at ( -87.62911773668448 , 32.76266425862635 )\n"
     ]
    }
   ],
   "source": [
    "# For each node, print the node #, county name, and its population\n",
    "for node in G.nodes:\n",
    "    name = G.nodes[node][\"NAME10\"]\n",
    "    population = G.nodes[node]['TOTPOP']\n",
    "    x_coordinate = G.nodes[node]['C_X']\n",
    "    y_coordinate = G.nodes[node]['C_Y']\n",
    "    print(\"Node\",node,\"is\",name,\"County, which has population\",population,\"and is centered at (\",x_coordinate,\",\",y_coordinate,\")\")"
   ]
  },
  {
   "cell_type": "code",
   "execution_count": 12,
   "id": "brilliant-reservoir",
   "metadata": {},
   "outputs": [
    {
     "name": "stdout",
     "output_type": "stream",
     "text": [
      "Collecting geopy\n",
      "  Downloading geopy-2.1.0-py3-none-any.whl (112 kB)\n",
      "Collecting geographiclib<2,>=1.49\n",
      "  Downloading geographiclib-1.50-py3-none-any.whl (38 kB)\n",
      "Installing collected packages: geographiclib, geopy\n",
      "Successfully installed geographiclib-1.50 geopy-2.1.0\n"
     ]
    }
   ],
   "source": [
    "# pip install geopy\n",
    "\n",
    "!pip install geopy"
   ]
  },
  {
   "cell_type": "code",
   "execution_count": 13,
   "id": "modified-denial",
   "metadata": {},
   "outputs": [],
   "source": [
    "import geopy"
   ]
  },
  {
   "cell_type": "code",
   "execution_count": 14,
   "id": "initial-policy",
   "metadata": {},
   "outputs": [
    {
     "name": "stdout",
     "output_type": "stream",
     "text": [
      "Barbour -> Shelby: 121.2644116391872\n",
      "Shelby -> Walker: 52.255718525283626\n",
      "Walker -> Barbour: 173.27867565607963\n"
     ]
    }
   ],
   "source": [
    "# what is the \"distance\" between Barbour County (node 0), Shelby County (node 15), and Walker County (node 23)?\n",
    "from geopy.distance import geodesic\n",
    "\n",
    "# Store centroid location as ( long, lat )\n",
    "Barbour = ( G.nodes[0]['C_Y'],  G.nodes[0]['C_X'] )\n",
    "Shelby = ( G.nodes[15]['C_Y'], G.nodes[15]['C_X'] )\n",
    "Walker = ( G.nodes[23]['C_Y'], G.nodes[23]['C_X'] )\n",
    "\n",
    "# Print the distance in miles\n",
    "print(\"Barbour -> Shelby:\",geodesic(Barbour, Shelby).miles)\n",
    "print(\"Shelby -> Walker:\",geodesic(Shelby, Walker).miles)\n",
    "print(\"Walker -> Barbour:\",geodesic(Walker, Barbour).miles)"
   ]
  },
  {
   "cell_type": "code",
   "execution_count": 15,
   "id": "electoral-cardiff",
   "metadata": {},
   "outputs": [],
   "source": [
    "# create distance dictionary\n",
    "dist = dict()\n",
    "for i in G.nodes:\n",
    "    for j in G.nodes:\n",
    "        loc_i = ( G.nodes[i]['C_Y'],  G.nodes[i]['C_X'] )\n",
    "        loc_j = ( G.nodes[j]['C_Y'],  G.nodes[j]['C_X'] )\n",
    "        dist[i,j] = geodesic(loc_i,loc_j).miles"
   ]
  },
  {
   "cell_type": "code",
   "execution_count": 16,
   "id": "accompanied-label",
   "metadata": {},
   "outputs": [
    {
     "name": "stdout",
     "output_type": "stream",
     "text": [
      "Barbour -> Shelby: 121.2644116391872\n"
     ]
    }
   ],
   "source": [
    "# check the dictionary by printing the Barbour County -> Shelby County distance\n",
    "print(\"Barbour -> Shelby:\",dist[0,15])"
   ]
  },
  {
   "cell_type": "code",
   "execution_count": 17,
   "id": "complex-onion",
   "metadata": {},
   "outputs": [
    {
     "name": "stdout",
     "output_type": "stream",
     "text": [
      "Using L = 679406 and U = 686233 and k = 7\n"
     ]
    }
   ],
   "source": [
    "# Let's impose a 1% population deviation (+/- 0.5%)\n",
    "deviation = 0.01\n",
    "\n",
    "import math\n",
    "k = 7          # number of districts\n",
    "total_population = sum(G.nodes[node]['TOTPOP'] for node in G.nodes)\n",
    "\n",
    "L = math.ceil((1-deviation/2)*total_population/k)\n",
    "U = math.floor((1+deviation/2)*total_population/k)\n",
    "print(\"Using L =\",L,\"and U =\",U,\"and k =\",k)"
   ]
  },
  {
   "cell_type": "code",
   "execution_count": 18,
   "id": "worldwide-viewer",
   "metadata": {},
   "outputs": [
    {
     "name": "stdout",
     "output_type": "stream",
     "text": [
      "Academic license - for non-commercial use only - expires 2021-06-24\n",
      "Using license file C:\\Users\\Louisa\\gurobi.lic\n"
     ]
    }
   ],
   "source": [
    "import gurobipy as gp\n",
    "from gurobipy import GRB\n",
    "\n",
    "# create model \n",
    "m = gp.Model()\n",
    "\n",
    "# create x[i,j] variable which equals one when county i \n",
    "#    is assigned to (the district centered at) county j\n",
    "x = m.addVars(G.nodes, G.nodes, vtype=GRB.BINARY)"
   ]
  },
  {
   "cell_type": "code",
   "execution_count": 19,
   "id": "systematic-interaction",
   "metadata": {},
   "outputs": [],
   "source": [
    "# objective is to minimize the moment of inertia: d^2 * p * x\n",
    "m.setObjective( gp.quicksum( dist[i,j]*dist[i,j]*G.nodes[i]['TOTPOP']*x[i,j] \n",
    "                            for i in G.nodes for j in G.nodes), GRB.MINIMIZE )"
   ]
  },
  {
   "cell_type": "code",
   "execution_count": 20,
   "id": "swiss-sympathy",
   "metadata": {},
   "outputs": [],
   "source": [
    "# add constraints saying that each county i is assigned to one district\n",
    "m.addConstrs( gp.quicksum(x[i,j] for j in G.nodes) == 1 for i in G.nodes)\n",
    "\n",
    "# add constraint saying there should be k district centers\n",
    "m.addConstr( gp.quicksum( x[j,j] for j in G.nodes ) == k )\n",
    "\n",
    "# add constraints that say: if j roots a district, then its population is between L and U.\n",
    "m.addConstrs( gp.quicksum( G.nodes[i]['TOTPOP'] * x[i,j] for i in G.nodes) >= L * x[j,j] for j in G.nodes )\n",
    "m.addConstrs( gp.quicksum( G.nodes[i]['TOTPOP'] * x[i,j] for i in G.nodes) <= U * x[j,j] for j in G.nodes )\n",
    "\n",
    "# add coupling constraints saying that if i is assigned to j, then j is a center.\n",
    "m.addConstrs( x[i,j] <= x[j,j] for i in G.nodes for j in G.nodes )\n",
    "\n",
    "m.update()"
   ]
  },
  {
   "cell_type": "code",
   "execution_count": 21,
   "id": "tired-speed",
   "metadata": {},
   "outputs": [],
   "source": [
    "# Add contiguity constraints\n",
    "\n",
    "import networkx as nx\n",
    "DG = nx.DiGraph(G)\n",
    "\n",
    "# Add variable f[j,u,v] which equals the amount of flow (originally from j) that is sent across arc (u,v)\n",
    "f = m.addVars( DG.nodes, DG.edges, vtype=GRB.CONTINUOUS)\n",
    "M = DG.number_of_nodes()-1\n",
    "\n",
    "# Add constraint saying that node j cannot receive flow of its own type\n",
    "m.addConstrs( gp.quicksum( f[j,u,j] for u in DG.neighbors(j) ) == 0 for j in DG.nodes )\n",
    "\n",
    "# Add constraints saying that node i can receive flow of type j only if i is assigned to j\n",
    "m.addConstrs( gp.quicksum( f[j,u,i] for u in DG.neighbors(i)) <= M * x[i,j] for i in DG.nodes for j in DG.nodes if i != j )\n",
    "\n",
    "# If i is assigned to j, then i should consume one unit of j flow. \n",
    "#    Otherwise, i should consume no units of j flow.\n",
    "m.addConstrs( gp.quicksum( f[j,u,i] - f[j,i,u] for u in DG.neighbors(i)) == x[i,j] for i in DG.nodes for j in DG.nodes if i != j )\n",
    "\n",
    "m.update()"
   ]
  },
  {
   "cell_type": "code",
   "execution_count": 22,
   "id": "greater-assets",
   "metadata": {},
   "outputs": [
    {
     "name": "stdout",
     "output_type": "stream",
     "text": [
      "Changed value of parameter MIPGap to 0.0\n",
      "   Prev: 0.0001  Min: 0.0  Max: inf  Default: 0.0001\n",
      "Gurobi Optimizer version 9.1.1 build v9.1.1rc0 (win64)\n",
      "Thread count: 4 physical cores, 8 logical processors, using up to 8 threads\n",
      "Optimize a model with 13602 rows, 27403 columns and 99280 nonzeros\n",
      "Model fingerprint: 0x8806bbad\n",
      "Variable types: 22914 continuous, 4489 integer (4489 binary)\n",
      "Coefficient statistics:\n",
      "  Matrix range     [1e+00, 7e+05]\n",
      "  Objective range  [4e+06, 4e+10]\n",
      "  Bounds range     [1e+00, 1e+00]\n",
      "  RHS range        [1e+00, 7e+00]\n",
      "Warning: Model contains large objective coefficients\n",
      "         Consider reformulating model or setting NumericFocus parameter\n",
      "         to avoid numerical issues.\n",
      "Presolve removed 1027 rows and 2760 columns\n",
      "Presolve time: 1.12s\n",
      "Presolved: 12575 rows, 24643 columns, 90388 nonzeros\n",
      "Variable types: 20420 continuous, 4223 integer (4223 binary)\n",
      "\n",
      "Root relaxation: objective 5.661390e+09, 1722 iterations, 0.37 seconds\n",
      "\n",
      "    Nodes    |    Current Node    |     Objective Bounds      |     Work\n",
      " Expl Unexpl |  Obj  Depth IntInf | Incumbent    BestBd   Gap | It/Node Time\n",
      "\n",
      "     0     0 5.6614e+09    0  175          - 5.6614e+09      -     -    2s\n",
      "     0     0 5.7467e+09    0  241          - 5.7467e+09      -     -    3s\n",
      "     0     0 5.7636e+09    0  250          - 5.7636e+09      -     -    4s\n",
      "     0     0 5.7637e+09    0  250          - 5.7637e+09      -     -    4s\n",
      "     0     0 5.7992e+09    0  241          - 5.7992e+09      -     -    5s\n",
      "     0     0 5.8036e+09    0  254          - 5.8036e+09      -     -    5s\n",
      "     0     0 5.8284e+09    0  258          - 5.8284e+09      -     -    5s\n",
      "     0     0 5.8447e+09    0  278          - 5.8447e+09      -     -    6s\n",
      "     0     0 5.8449e+09    0  279          - 5.8449e+09      -     -    6s\n",
      "     0     0 5.8597e+09    0  282          - 5.8597e+09      -     -    6s\n",
      "     0     0 5.8641e+09    0  280          - 5.8641e+09      -     -    7s\n",
      "     0     0 5.8671e+09    0  250          - 5.8671e+09      -     -    7s\n",
      "     0     0 5.8673e+09    0  256          - 5.8673e+09      -     -    7s\n",
      "     0     0 5.8686e+09    0  264          - 5.8686e+09      -     -    7s\n",
      "     0     0 5.8688e+09    0  260          - 5.8688e+09      -     -    7s\n",
      "     0     0 5.8689e+09    0  262          - 5.8689e+09      -     -    7s\n",
      "     0     0 5.8689e+09    0  264          - 5.8689e+09      -     -    7s\n",
      "     0     0 5.8898e+09    0  306          - 5.8898e+09      -     -    8s\n",
      "     0     0 5.8916e+09    0  321          - 5.8916e+09      -     -    8s\n",
      "     0     0 5.8921e+09    0  321          - 5.8921e+09      -     -    8s\n",
      "     0     0 5.8921e+09    0  321          - 5.8921e+09      -     -    8s\n",
      "     0     0 5.8921e+09    0  322          - 5.8921e+09      -     -    8s\n",
      "     0     0 5.9102e+09    0  294          - 5.9102e+09      -     -    8s\n",
      "     0     0 5.9117e+09    0  308          - 5.9117e+09      -     -    9s\n",
      "     0     0 5.9119e+09    0  310          - 5.9119e+09      -     -    9s\n",
      "     0     0 5.9158e+09    0  284          - 5.9158e+09      -     -    9s\n",
      "     0     0 5.9158e+09    0  285          - 5.9158e+09      -     -    9s\n",
      "     0     0 5.9191e+09    0  284          - 5.9191e+09      -     -   10s\n",
      "     0     0 5.9191e+09    0  288          - 5.9191e+09      -     -   10s\n",
      "     0     0 5.9200e+09    0  271          - 5.9200e+09      -     -   10s\n",
      "     0     0 5.9207e+09    0  296          - 5.9207e+09      -     -   11s\n",
      "     0     0 5.9213e+09    0  287          - 5.9213e+09      -     -   11s\n",
      "     0     0 5.9215e+09    0  284          - 5.9215e+09      -     -   11s\n",
      "     0     0 5.9215e+09    0  285          - 5.9215e+09      -     -   11s\n",
      "     0     0 5.9238e+09    0  306          - 5.9238e+09      -     -   11s\n",
      "     0     0 5.9241e+09    0  314          - 5.9241e+09      -     -   12s\n",
      "     0     0 5.9241e+09    0  314          - 5.9241e+09      -     -   12s\n",
      "     0     0 5.9248e+09    0  316          - 5.9248e+09      -     -   12s\n",
      "     0     0 5.9248e+09    0  316          - 5.9248e+09      -     -   12s\n",
      "     0     0 5.9249e+09    0  326          - 5.9249e+09      -     -   13s\n",
      "     0     0 5.9251e+09    0  332          - 5.9251e+09      -     -   13s\n",
      "     0     0 5.9251e+09    0  317          - 5.9251e+09      -     -   13s\n",
      "     0     0 5.9255e+09    0  333          - 5.9255e+09      -     -   14s\n",
      "     0     0 5.9255e+09    0  331          - 5.9255e+09      -     -   14s\n",
      "     0     0 5.9262e+09    0  310          - 5.9262e+09      -     -   14s\n",
      "     0     0 5.9263e+09    0  316          - 5.9263e+09      -     -   15s\n",
      "     0     0 5.9263e+09    0  308          - 5.9263e+09      -     -   15s\n",
      "     0     0 5.9305e+09    0  333          - 5.9305e+09      -     -   15s\n",
      "     0     0 5.9306e+09    0  331          - 5.9306e+09      -     -   15s\n",
      "     0     0 5.9331e+09    0  317          - 5.9331e+09      -     -   16s\n",
      "     0     0 5.9336e+09    0  317          - 5.9336e+09      -     -   16s\n",
      "     0     2 5.9336e+09    0  317          - 5.9336e+09      -     -   20s\n",
      "   108   117 6.6698e+09   21   22          - 5.9663e+09      -   158   25s\n",
      "   620   466 7.2493e+09   46   12          - 5.9818e+09      -  88.6   30s\n",
      "  1044   729 6.5538e+09   18  317          - 6.0132e+09      -  85.1   37s\n",
      "  1046   730 8.2062e+09   35  175          - 6.0132e+09      -  85.0   40s\n",
      "  1056   737 6.5616e+09   23  295          - 6.0132e+09      -  84.2   45s\n",
      "  1066   744 8.4801e+09   35  316          - 6.0132e+09      -  83.4   50s\n",
      "  1069   746 6.9744e+09   18  351          - 6.0132e+09      -  83.1   59s\n",
      "  1070   749 6.0132e+09   15  281          - 6.0132e+09      -   5.5   66s\n",
      "  1072   753 6.0304e+09   16  267          - 6.0132e+09      -   6.3   70s\n",
      "  1131   803 6.5993e+09   24   19          - 6.0303e+09      -  18.1   75s\n",
      "  1415   902 6.0668e+09   18  209          - 6.0313e+09      -  27.4   80s\n",
      "  1490   954 6.1919e+09   27   19          - 6.0313e+09      -  36.0   85s\n",
      "  1892  1163 6.1273e+09   22  133          - 6.0669e+09      -  43.3   90s\n",
      "  2203  1253 6.5566e+09   32   20          - 6.0669e+09      -  48.7   95s\n",
      "  2613  1461 6.2920e+09   24   61          - 6.0766e+09      -  55.5  100s\n",
      "  3244  1715 7.6653e+09   55    6          - 6.0965e+09      -  59.5  105s\n",
      "  3670  2079 6.3004e+09   22  111          - 6.1107e+09      -  64.1  110s\n",
      "* 3804   672              39    6.613137e+09 6.1170e+09  7.50%  65.4  111s\n",
      "H 3957   297                    6.409756e+09 6.1170e+09  4.57%  65.4  112s\n",
      "  4140   300 6.3664e+09   26  131 6.4098e+09 6.1340e+09  4.30%  66.5  115s\n",
      "  4564   313     cutoff   20      6.4098e+09 6.1958e+09  3.34%  68.8  120s\n",
      "  5005   261 6.3430e+09   26  131 6.4098e+09 6.2382e+09  2.68%  68.7  125s\n",
      "  5512     0 6.3370e+09   26  215 6.4098e+09 6.3107e+09  1.55%  68.7  130s\n",
      "\n",
      "Cutting planes:\n",
      "  Cover: 94\n",
      "  MIR: 18\n",
      "  StrongCG: 8\n",
      "  Flow cover: 123\n",
      "  GUB cover: 10\n",
      "  Zero half: 6\n",
      "  Mod-K: 2\n",
      "  Network: 8\n",
      "  RLT: 1\n",
      "\n",
      "Explored 5718 nodes (485813 simplex iterations) in 130.86 seconds\n",
      "Thread count was 8 (of 8 available processors)\n",
      "\n",
      "Solution count 2: 6.40976e+09 6.61314e+09 \n",
      "\n",
      "Optimal solution found (tolerance 0.00e+00)\n",
      "Best objective 6.409755608475e+09, best bound 6.409755608475e+09, gap 0.0000%\n"
     ]
    }
   ],
   "source": [
    "# solve, making sure to set a 0.00% MIP gap tolerance(!)\n",
    "m.Params.MIPGap = 0.0\n",
    "m.optimize()"
   ]
  },
  {
   "cell_type": "code",
   "execution_count": 23,
   "id": "narrative-reason",
   "metadata": {},
   "outputs": [
    {
     "name": "stdout",
     "output_type": "stream",
     "text": [
      "The moment of inertia objective is 6409755608.475345\n",
      "District 0 has population 681381 and contains counties ['Jefferson', 'Bibb']\n",
      "District 1 has population 680437 and contains counties ['Madison', 'Limestone', 'Franklin', 'Lauderdale', 'Jackson', 'Marion', 'Colbert']\n",
      "District 2 has population 684669 and contains counties ['Cherokee', 'Cleburne', 'Marshall', 'Morgan', 'Etowah', 'Lawrence', 'DeKalb', 'St. Clair', 'Blount', 'Cullman']\n",
      "District 3 has population 683280 and contains counties ['Dallas', 'Shelby', 'Walker', 'Pickens', 'Tuscaloosa', 'Sumter', 'Perry', 'Chilton', 'Greene', 'Winston', 'Lamar', 'Choctaw', 'Fayette', 'Hale']\n",
      "District 4 has population 684512 and contains counties ['Clay', 'Macon', 'Autauga', 'Talladega', 'Tallapoosa', 'Calhoun', 'Elmore', 'Chambers', 'Bullock', 'Coosa', 'Russell', 'Randolph', 'Lee']\n",
      "District 5 has population 682766 and contains counties ['Marengo', 'Baldwin', 'Mobile', 'Washington', 'Clarke', 'Monroe']\n",
      "District 6 has population 682691 and contains counties ['Barbour', 'Houston', 'Conecuh', 'Henry', 'Crenshaw', 'Covington', 'Butler', 'Dale', 'Geneva', 'Wilcox', 'Pike', 'Coffee', 'Montgomery', 'Escambia', 'Lowndes']\n"
     ]
    }
   ],
   "source": [
    "print(\"The moment of inertia objective is\",m.objval)\n",
    "\n",
    "# retrieve the districts and their populations\n",
    "centers = [j for j in G.nodes if x[j,j].x > 0.5 ]\n",
    "districts = [ [i for i in G.nodes if x[i,j].x > 0.5] for j in centers]\n",
    "district_counties = [ [ G.nodes[i][\"NAME10\"] for i in districts[j] ] for j in range(k)]\n",
    "district_populations = [ sum(G.nodes[i][\"TOTPOP\"] for i in districts[j]) for j in range(k) ]\n",
    "\n",
    "# print district info\n",
    "for j in range(k):\n",
    "    print(\"District\",j,\"has population\",district_populations[j],\"and contains counties\",district_counties[j])"
   ]
  },
  {
   "cell_type": "code",
   "execution_count": 24,
   "id": "intimate-clinton",
   "metadata": {},
   "outputs": [],
   "source": [
    "# Let's draw it on a map\n",
    "import geopandas as gpd"
   ]
  },
  {
   "cell_type": "code",
   "execution_count": 25,
   "id": "perceived-motorcycle",
   "metadata": {},
   "outputs": [],
   "source": [
    "# Read Oklahoma county shapefile from \"OK_county.shp\"\n",
    "\n",
    "filename = 'AL_counties.shp'\n",
    "\n",
    "# Read geopandas dataframe from file\n",
    "df = gpd.read_file( filename )"
   ]
  },
  {
   "cell_type": "code",
   "execution_count": 26,
   "id": "superior-artwork",
   "metadata": {},
   "outputs": [
    {
     "data": {
      "image/png": "[encoded data removed]",
      "text/plain": [
       "<Figure size 432x288 with 1 Axes>"
      ]
     },
     "metadata": {
      "needs_background": "light"
     },
     "output_type": "display_data"
    }
   ],
   "source": [
    "# Which district is each county assigned to?\n",
    "assignment = [ -1 for u in G.nodes ]\n",
    "    \n",
    "# for each district j\n",
    "for j in range(len(districts)):\n",
    "    \n",
    "    # for each node i in this district\n",
    "    for i in districts[j]:\n",
    "        \n",
    "        # What is its GEOID?\n",
    "        geoID = G.nodes[i][\"GEOID10\"]\n",
    "        \n",
    "        # Need to find this GEOID in the dataframe\n",
    "        for u in G.nodes:\n",
    "            if geoID == df['GEOID10'][u]: # Found it\n",
    "                assignment[u] = j # Node u from the dataframe should be assigned to district j\n",
    "\n",
    "# Now add the assignments to a column of the dataframe and map it\n",
    "df['assignment'] = assignment\n",
    "my_fig = df.plot(column='assignment').get_figure()"
   ]
  },
  {
   "cell_type": "code",
   "execution_count": null,
   "id": "posted-twelve",
   "metadata": {},
   "outputs": [],
   "source": []
  }
 ],
 "metadata": {
  "kernelspec": {
   "display_name": "Python 3",
   "language": "python",
   "name": "python3"
  },
  "language_info": {
   "codemirror_mode": {
    "name": "ipython",
    "version": 3
   },
   "file_extension": ".py",
   "mimetype": "text/x-python",
   "name": "python",
   "nbconvert_exporter": "python",
   "pygments_lexer": "ipython3",
   "version": "3.8.5"
  }
 },
 "nbformat": 4,
 "nbformat_minor": 5
}
